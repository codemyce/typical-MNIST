{
 "cells": [
  {
   "cell_type": "code",
   "execution_count": 1,
   "metadata": {},
   "outputs": [],
   "source": [
    "# Imports\n",
    "import numpy as np\n",
    "import matplotlib.pyplot as plt\n",
    "import codecs\n",
    "\n",
    "from sklearn import svm\n",
    "from sklearn.metrics import accuracy_score\n",
    "from sklearn.metrics import plot_confusion_matrix"
   ]
  },
  {
   "cell_type": "code",
   "execution_count": 2,
   "metadata": {},
   "outputs": [],
   "source": [
    "# Loading helpers, help from https://github.com/Ghosh4AI/Data-Processors/tree/master/MNIST\n",
    "def get_int(b):\n",
    "    return int(codecs.encode(b, 'hex'), 16)\n",
    "\n",
    "def readImgs(filename):\n",
    "    with open (filename, 'rb') as f:\n",
    "        data = f.read()\n",
    "        dtype = get_int(data[:4])\n",
    "        length = get_int(data[4:8])\n",
    "        \n",
    "#         if (dtype == 2051):\n",
    "        # images\n",
    "        nrows = get_int(data[8:12])\n",
    "        ncols = get_int(data[12:16])\n",
    "        p = np.frombuffer(data, dtype = np.uint8, offset=16)\n",
    "        p = np.reshape(p, (length, nrows, ncols))\n",
    "    return p\n",
    "    \n",
    "def readLabels(filename):\n",
    "    with open (filename, 'rb') as f:\n",
    "        data = f.read()\n",
    "        dtype = get_int(data[:4])\n",
    "        length = get_int(data[4:8])\n",
    "        \n",
    "#         if (dtype == 2049):\n",
    "        # labels\n",
    "        p = np.frombuffer(data, dtype = np.uint8, offset=8)\n",
    "        p = p.reshape(length)\n",
    "    return p"
   ]
  },
  {
   "cell_type": "code",
   "execution_count": 3,
   "metadata": {},
   "outputs": [],
   "source": [
    "# Read the datasets\n",
    "files = ['../data/train-images-idx3-ubyte', \n",
    "         '../data/train-labels-idx1-ubyte', \n",
    "         '../data/t10k-images-idx3-ubyte', \n",
    "         '../data/t10k-labels-idx1-ubyte']\n",
    "\n",
    "train_imgs_display = readImgs(files[0])\n",
    "train_labels = readLabels(files[1])\n",
    "test_imgs_display = readImgs(files[2])\n",
    "test_labels = readLabels(files[3])"
   ]
  },
  {
   "cell_type": "code",
   "execution_count": 4,
   "metadata": {},
   "outputs": [
    {
     "data": {
      "image/png": "[encoded data removed]",
      "text/plain": [
       "<Figure size 432x288 with 1 Axes>"
      ]
     },
     "metadata": {},
     "output_type": "display_data"
    }
   ],
   "source": [
    "# test that loading was correct\n",
    "i = 1\n",
    "plt.imshow(train_imgs_display[i], cmap=\"gray\"), plt.title('%d' % train_labels[i])\n",
    "plt.xticks([]), plt.yticks([])\n",
    "plt.show()"
   ]
  },
  {
   "cell_type": "code",
   "execution_count": 5,
   "metadata": {},
   "outputs": [],
   "source": [
    "# Preprocess the data for ML use\n",
    "shape_train = np.shape(train_imgs_display)\n",
    "shape_test = np.shape(test_imgs_display)\n",
    "\n",
    "train_imgs = np.reshape(train_imgs_display, (shape_train[0], shape_train[1]*shape_train[2]))\n",
    "test_imgs = np.reshape(test_imgs_display, (shape_test[0], shape_test[1]*shape_test[2]))"
   ]
  },
  {
   "cell_type": "code",
   "execution_count": 6,
   "metadata": {},
   "outputs": [],
   "source": [
    "def performanceMetrics(labels, prediction):\n",
    "    # accuracy\n",
    "    acc = accuracy_score(labels, prediction)\n",
    "    \n",
    "    # Confusion Matrix\n",
    "    conf = confusion_matrix(labels, prediction)\n",
    "\n",
    "    plt.figure()\n",
    "    plt.title(\"Accuracy: \" + str(acc))\n",
    "    plt.imshow(conf)\n",
    "    plt.show()"
   ]
  },
  {
   "cell_type": "code",
   "execution_count": null,
   "metadata": {},
   "outputs": [],
   "source": [
    "# Test 1. Simple SVM\n",
    "\n",
    "clf = svm.SVC(kernel='linear', C=0.01)\n",
    "clf.fit(train_imgs, train_labels)\n",
    "\n",
    "performanceMetrics(test_labels, clf.predict(test_images))"
   ]
  },
  {
   "cell_type": "code",
   "execution_count": null,
   "metadata": {},
   "outputs": [],
   "source": [
    "# Test 2. Simple 2 layer fully connected NN"
   ]
  },
  {
   "cell_type": "code",
   "execution_count": null,
   "metadata": {},
   "outputs": [],
   "source": [
    "# Test 3. CNN with max pooling and a fully connected layer"
   ]
  }
 ],
 "metadata": {
  "kernelspec": {
   "display_name": "Python 3",
   "language": "python",
   "name": "python3"
  },
  "language_info": {
   "codemirror_mode": {
    "name": "ipython",
    "version": 3
   },
   "file_extension": ".py",
   "mimetype": "text/x-python",
   "name": "python",
   "nbconvert_exporter": "python",
   "pygments_lexer": "ipython3",
   "version": "3.8.1"
  }
 },
 "nbformat": 4,
 "nbformat_minor": 4
}
